{
 "cells": [
  {
   "cell_type": "markdown",
   "id": "6512858e-73a5-44c6-8f66-58af40a95f41",
   "metadata": {},
   "source": [
    "### New COde"
   ]
  },
  {
   "cell_type": "code",
   "execution_count": 10,
   "id": "60499fb0-4763-4a13-b06b-a9bda0d2bf11",
   "metadata": {},
   "outputs": [
    {
     "name": "stdout",
     "output_type": "stream",
     "text": [
      "Defaulting to user installation because normal site-packages is not writeable\n",
      "Requirement already satisfied: pandas in c:\\programdata\\anaconda3\\lib\\site-packages (2.2.2)\n",
      "Requirement already satisfied: numpy in c:\\programdata\\anaconda3\\lib\\site-packages (1.26.4)\n",
      "Requirement already satisfied: nltk in c:\\programdata\\anaconda3\\lib\\site-packages (3.8.1)\n",
      "Requirement already satisfied: scikit-learn in c:\\programdata\\anaconda3\\lib\\site-packages (1.4.2)\n",
      "Requirement already satisfied: matplotlib in c:\\programdata\\anaconda3\\lib\\site-packages (3.8.4)\n",
      "Requirement already satisfied: seaborn in c:\\programdata\\anaconda3\\lib\\site-packages (0.13.2)\n",
      "Requirement already satisfied: python-dateutil>=2.8.2 in c:\\users\\berin\\appdata\\roaming\\python\\python312\\site-packages (from pandas) (2.9.0.post0)\n",
      "Requirement already satisfied: pytz>=2020.1 in c:\\programdata\\anaconda3\\lib\\site-packages (from pandas) (2024.1)\n",
      "Requirement already satisfied: tzdata>=2022.7 in c:\\programdata\\anaconda3\\lib\\site-packages (from pandas) (2023.3)\n",
      "Requirement already satisfied: click in c:\\programdata\\anaconda3\\lib\\site-packages (from nltk) (8.1.7)\n",
      "Requirement already satisfied: joblib in c:\\programdata\\anaconda3\\lib\\site-packages (from nltk) (1.4.2)\n",
      "Requirement already satisfied: regex>=2021.8.3 in c:\\programdata\\anaconda3\\lib\\site-packages (from nltk) (2023.10.3)\n",
      "Requirement already satisfied: tqdm in c:\\programdata\\anaconda3\\lib\\site-packages (from nltk) (4.66.4)\n",
      "Requirement already satisfied: scipy>=1.6.0 in c:\\programdata\\anaconda3\\lib\\site-packages (from scikit-learn) (1.13.1)\n",
      "Requirement already satisfied: threadpoolctl>=2.0.0 in c:\\programdata\\anaconda3\\lib\\site-packages (from scikit-learn) (2.2.0)\n",
      "Requirement already satisfied: contourpy>=1.0.1 in c:\\programdata\\anaconda3\\lib\\site-packages (from matplotlib) (1.2.0)\n",
      "Requirement already satisfied: cycler>=0.10 in c:\\programdata\\anaconda3\\lib\\site-packages (from matplotlib) (0.11.0)\n",
      "Requirement already satisfied: fonttools>=4.22.0 in c:\\programdata\\anaconda3\\lib\\site-packages (from matplotlib) (4.51.0)\n",
      "Requirement already satisfied: kiwisolver>=1.3.1 in c:\\programdata\\anaconda3\\lib\\site-packages (from matplotlib) (1.4.4)\n",
      "Requirement already satisfied: packaging>=20.0 in c:\\users\\berin\\appdata\\roaming\\python\\python312\\site-packages (from matplotlib) (24.1)\n",
      "Requirement already satisfied: pillow>=8 in c:\\programdata\\anaconda3\\lib\\site-packages (from matplotlib) (10.3.0)\n",
      "Requirement already satisfied: pyparsing>=2.3.1 in c:\\programdata\\anaconda3\\lib\\site-packages (from matplotlib) (3.0.9)\n",
      "Requirement already satisfied: six>=1.5 in c:\\users\\berin\\appdata\\roaming\\python\\python312\\site-packages (from python-dateutil>=2.8.2->pandas) (1.16.0)\n",
      "Requirement already satisfied: colorama in c:\\users\\berin\\appdata\\roaming\\python\\python312\\site-packages (from click->nltk) (0.4.6)\n"
     ]
    }
   ],
   "source": [
    "!pip install pandas numpy nltk scikit-learn matplotlib seaborn\n"
   ]
  },
  {
   "cell_type": "code",
   "execution_count": 16,
   "id": "da993cf9-29ce-4ac9-a7f6-411b333f208f",
   "metadata": {
    "scrolled": true
   },
   "outputs": [
    {
     "name": "stderr",
     "output_type": "stream",
     "text": [
      "[nltk_data] Downloading package stopwords to\n",
      "[nltk_data]     C:\\Users\\berin\\AppData\\Roaming\\nltk_data...\n",
      "[nltk_data]   Package stopwords is already up-to-date!\n"
     ]
    },
    {
     "data": {
      "text/html": [
       "<div>\n",
       "<style scoped>\n",
       "    .dataframe tbody tr th:only-of-type {\n",
       "        vertical-align: middle;\n",
       "    }\n",
       "\n",
       "    .dataframe tbody tr th {\n",
       "        vertical-align: top;\n",
       "    }\n",
       "\n",
       "    .dataframe thead th {\n",
       "        text-align: right;\n",
       "    }\n",
       "</style>\n",
       "<table border=\"1\" class=\"dataframe\">\n",
       "  <thead>\n",
       "    <tr style=\"text-align: right;\">\n",
       "      <th></th>\n",
       "      <th>address</th>\n",
       "      <th>career_objective</th>\n",
       "      <th>skills</th>\n",
       "      <th>educational_institution_name</th>\n",
       "      <th>degree_names</th>\n",
       "      <th>passing_years</th>\n",
       "      <th>educational_results</th>\n",
       "      <th>result_types</th>\n",
       "      <th>major_field_of_studies</th>\n",
       "      <th>professional_company_names</th>\n",
       "      <th>...</th>\n",
       "      <th>online_links</th>\n",
       "      <th>issue_dates</th>\n",
       "      <th>expiry_dates</th>\n",
       "      <th>﻿job_position_name</th>\n",
       "      <th>educationaL_requirements</th>\n",
       "      <th>experiencere_requirement</th>\n",
       "      <th>age_requirement</th>\n",
       "      <th>responsibilities.1</th>\n",
       "      <th>skills_required</th>\n",
       "      <th>matched_score</th>\n",
       "    </tr>\n",
       "  </thead>\n",
       "  <tbody>\n",
       "    <tr>\n",
       "      <th>0</th>\n",
       "      <td>NaN</td>\n",
       "      <td>Big data analytics working and database wareho...</td>\n",
       "      <td>['Big Data', 'Hadoop', 'Hive', 'Python', 'Mapr...</td>\n",
       "      <td>['The Amity School of Engineering &amp; Technology...</td>\n",
       "      <td>['B.Tech']</td>\n",
       "      <td>['2019']</td>\n",
       "      <td>['N/A']</td>\n",
       "      <td>[None]</td>\n",
       "      <td>['Electronics']</td>\n",
       "      <td>['Coca-COla']</td>\n",
       "      <td>...</td>\n",
       "      <td>NaN</td>\n",
       "      <td>NaN</td>\n",
       "      <td>NaN</td>\n",
       "      <td>Senior Software Engineer</td>\n",
       "      <td>B.Sc in Computer Science &amp; Engineering from a ...</td>\n",
       "      <td>At least 1 year</td>\n",
       "      <td>NaN</td>\n",
       "      <td>Technical Support\\nTroubleshooting\\nCollaborat...</td>\n",
       "      <td>NaN</td>\n",
       "      <td>0.850000</td>\n",
       "    </tr>\n",
       "    <tr>\n",
       "      <th>1</th>\n",
       "      <td>NaN</td>\n",
       "      <td>Fresher looking to join as a data analyst and ...</td>\n",
       "      <td>['Data Analysis', 'Data Analytics', 'Business ...</td>\n",
       "      <td>['Delhi University - Hansraj College', 'Delhi ...</td>\n",
       "      <td>['B.Sc (Maths)', 'M.Sc (Science) (Statistics)']</td>\n",
       "      <td>['2015', '2018']</td>\n",
       "      <td>['N/A', 'N/A']</td>\n",
       "      <td>['N/A', 'N/A']</td>\n",
       "      <td>['Mathematics', 'Statistics']</td>\n",
       "      <td>['BIB Consultancy']</td>\n",
       "      <td>...</td>\n",
       "      <td>NaN</td>\n",
       "      <td>NaN</td>\n",
       "      <td>NaN</td>\n",
       "      <td>Machine Learning (ML) Engineer</td>\n",
       "      <td>M.Sc in Computer Science &amp; Engineering or in a...</td>\n",
       "      <td>At least 5 year(s)</td>\n",
       "      <td>NaN</td>\n",
       "      <td>Machine Learning Leadership\\nCross-Functional ...</td>\n",
       "      <td>NaN</td>\n",
       "      <td>0.750000</td>\n",
       "    </tr>\n",
       "    <tr>\n",
       "      <th>2</th>\n",
       "      <td>NaN</td>\n",
       "      <td>NaN</td>\n",
       "      <td>['Software Development', 'Machine Learning', '...</td>\n",
       "      <td>['Birla Institute of Technology (BIT), Ranchi']</td>\n",
       "      <td>['B.Tech']</td>\n",
       "      <td>['2018']</td>\n",
       "      <td>['N/A']</td>\n",
       "      <td>['N/A']</td>\n",
       "      <td>['Electronics/Telecommunication']</td>\n",
       "      <td>['Axis Bank Limited']</td>\n",
       "      <td>...</td>\n",
       "      <td>NaN</td>\n",
       "      <td>NaN</td>\n",
       "      <td>NaN</td>\n",
       "      <td>Executive/ Senior Executive- Trade Marketing, ...</td>\n",
       "      <td>Master of Business Administration (MBA)</td>\n",
       "      <td>At least 3 years</td>\n",
       "      <td>NaN</td>\n",
       "      <td>Trade Marketing Executive\\nBrand Visibility, S...</td>\n",
       "      <td>Brand Promotion\\nCampaign Management\\nField Su...</td>\n",
       "      <td>0.416667</td>\n",
       "    </tr>\n",
       "    <tr>\n",
       "      <th>3</th>\n",
       "      <td>NaN</td>\n",
       "      <td>To obtain a position in a fast-paced business ...</td>\n",
       "      <td>['accounts payables', 'accounts receivables', ...</td>\n",
       "      <td>['Martinez Adult Education, Business Training ...</td>\n",
       "      <td>['Computer Applications Specialist Certificate...</td>\n",
       "      <td>['2008']</td>\n",
       "      <td>[None]</td>\n",
       "      <td>[None]</td>\n",
       "      <td>['Computer Applications']</td>\n",
       "      <td>['Company Name ï¼ City , State', 'Company Name...</td>\n",
       "      <td>...</td>\n",
       "      <td>NaN</td>\n",
       "      <td>NaN</td>\n",
       "      <td>NaN</td>\n",
       "      <td>Business Development Executive</td>\n",
       "      <td>Bachelor/Honors</td>\n",
       "      <td>1 to 3 years</td>\n",
       "      <td>Age 22 to 30 years</td>\n",
       "      <td>Apparel Sourcing\\nQuality Garment Sourcing\\nRe...</td>\n",
       "      <td>Fast typing skill\\nIELTSInternet browsing &amp; on...</td>\n",
       "      <td>0.760000</td>\n",
       "    </tr>\n",
       "    <tr>\n",
       "      <th>4</th>\n",
       "      <td>NaN</td>\n",
       "      <td>Professional accountant with an outstanding wo...</td>\n",
       "      <td>['Analytical reasoning', 'Compliance testing k...</td>\n",
       "      <td>['Kent State University']</td>\n",
       "      <td>['Bachelor of Business Administration']</td>\n",
       "      <td>[None]</td>\n",
       "      <td>['3.84']</td>\n",
       "      <td>[None]</td>\n",
       "      <td>['Accounting']</td>\n",
       "      <td>['Company Name', 'Company Name', 'Company Name...</td>\n",
       "      <td>...</td>\n",
       "      <td>[None]</td>\n",
       "      <td>[None]</td>\n",
       "      <td>['February 15, 2021']</td>\n",
       "      <td>Senior iOS Engineer</td>\n",
       "      <td>Bachelor of Science (BSc) in Computer Science</td>\n",
       "      <td>At least 4 years</td>\n",
       "      <td>NaN</td>\n",
       "      <td>iOS Lifecycle\\nRequirement Analysis\\nNative Fr...</td>\n",
       "      <td>iOS\\niOS App Developer\\niOS Application Develo...</td>\n",
       "      <td>0.650000</td>\n",
       "    </tr>\n",
       "  </tbody>\n",
       "</table>\n",
       "<p>5 rows × 35 columns</p>\n",
       "</div>"
      ],
      "text/plain": [
       "  address                                   career_objective  \\\n",
       "0     NaN  Big data analytics working and database wareho...   \n",
       "1     NaN  Fresher looking to join as a data analyst and ...   \n",
       "2     NaN                                                NaN   \n",
       "3     NaN  To obtain a position in a fast-paced business ...   \n",
       "4     NaN  Professional accountant with an outstanding wo...   \n",
       "\n",
       "                                              skills  \\\n",
       "0  ['Big Data', 'Hadoop', 'Hive', 'Python', 'Mapr...   \n",
       "1  ['Data Analysis', 'Data Analytics', 'Business ...   \n",
       "2  ['Software Development', 'Machine Learning', '...   \n",
       "3  ['accounts payables', 'accounts receivables', ...   \n",
       "4  ['Analytical reasoning', 'Compliance testing k...   \n",
       "\n",
       "                        educational_institution_name  \\\n",
       "0  ['The Amity School of Engineering & Technology...   \n",
       "1  ['Delhi University - Hansraj College', 'Delhi ...   \n",
       "2    ['Birla Institute of Technology (BIT), Ranchi']   \n",
       "3  ['Martinez Adult Education, Business Training ...   \n",
       "4                          ['Kent State University']   \n",
       "\n",
       "                                        degree_names     passing_years  \\\n",
       "0                                         ['B.Tech']          ['2019']   \n",
       "1    ['B.Sc (Maths)', 'M.Sc (Science) (Statistics)']  ['2015', '2018']   \n",
       "2                                         ['B.Tech']          ['2018']   \n",
       "3  ['Computer Applications Specialist Certificate...          ['2008']   \n",
       "4            ['Bachelor of Business Administration']            [None]   \n",
       "\n",
       "  educational_results    result_types             major_field_of_studies  \\\n",
       "0             ['N/A']          [None]                    ['Electronics']   \n",
       "1      ['N/A', 'N/A']  ['N/A', 'N/A']      ['Mathematics', 'Statistics']   \n",
       "2             ['N/A']         ['N/A']  ['Electronics/Telecommunication']   \n",
       "3              [None]          [None]          ['Computer Applications']   \n",
       "4            ['3.84']          [None]                     ['Accounting']   \n",
       "\n",
       "                          professional_company_names  ... online_links  \\\n",
       "0                                      ['Coca-COla']  ...          NaN   \n",
       "1                                ['BIB Consultancy']  ...          NaN   \n",
       "2                              ['Axis Bank Limited']  ...          NaN   \n",
       "3  ['Company Name ï¼ City , State', 'Company Name...  ...          NaN   \n",
       "4  ['Company Name', 'Company Name', 'Company Name...  ...       [None]   \n",
       "\n",
       "  issue_dates           expiry_dates  \\\n",
       "0         NaN                    NaN   \n",
       "1         NaN                    NaN   \n",
       "2         NaN                    NaN   \n",
       "3         NaN                    NaN   \n",
       "4      [None]  ['February 15, 2021']   \n",
       "\n",
       "                                  ﻿job_position_name  \\\n",
       "0                           Senior Software Engineer   \n",
       "1                     Machine Learning (ML) Engineer   \n",
       "2  Executive/ Senior Executive- Trade Marketing, ...   \n",
       "3                     Business Development Executive   \n",
       "4                                Senior iOS Engineer   \n",
       "\n",
       "                            educationaL_requirements experiencere_requirement  \\\n",
       "0  B.Sc in Computer Science & Engineering from a ...          At least 1 year   \n",
       "1  M.Sc in Computer Science & Engineering or in a...       At least 5 year(s)   \n",
       "2            Master of Business Administration (MBA)         At least 3 years   \n",
       "3                                    Bachelor/Honors             1 to 3 years   \n",
       "4      Bachelor of Science (BSc) in Computer Science         At least 4 years   \n",
       "\n",
       "      age_requirement                                 responsibilities.1  \\\n",
       "0                 NaN  Technical Support\\nTroubleshooting\\nCollaborat...   \n",
       "1                 NaN  Machine Learning Leadership\\nCross-Functional ...   \n",
       "2                 NaN  Trade Marketing Executive\\nBrand Visibility, S...   \n",
       "3  Age 22 to 30 years  Apparel Sourcing\\nQuality Garment Sourcing\\nRe...   \n",
       "4                 NaN  iOS Lifecycle\\nRequirement Analysis\\nNative Fr...   \n",
       "\n",
       "                                     skills_required matched_score  \n",
       "0                                                NaN      0.850000  \n",
       "1                                                NaN      0.750000  \n",
       "2  Brand Promotion\\nCampaign Management\\nField Su...      0.416667  \n",
       "3  Fast typing skill\\nIELTSInternet browsing & on...      0.760000  \n",
       "4  iOS\\niOS App Developer\\niOS Application Develo...      0.650000  \n",
       "\n",
       "[5 rows x 35 columns]"
      ]
     },
     "execution_count": 16,
     "metadata": {},
     "output_type": "execute_result"
    }
   ],
   "source": [
    "import pandas as pd\n",
    "import nltk\n",
    "import re\n",
    "\n",
    "# Download stopwords (only runs if not already downloaded)\n",
    "nltk.download('stopwords')\n",
    "from nltk.corpus import stopwords\n",
    "\n",
    "stop_words = set(stopwords.words('english'))\n",
    "\n",
    "# Load your custom resume dataset\n",
    "df = pd.read_csv(\"resume_data.csv\")\n",
    "\n",
    "# Check the first few rows\n",
    "df.head()\n",
    "\n"
   ]
  },
  {
   "cell_type": "code",
   "execution_count": 18,
   "id": "ca91fbd6-01f6-41b2-b1c8-263746e8022a",
   "metadata": {
    "scrolled": true
   },
   "outputs": [
    {
     "data": {
      "text/html": [
       "<div>\n",
       "<style scoped>\n",
       "    .dataframe tbody tr th:only-of-type {\n",
       "        vertical-align: middle;\n",
       "    }\n",
       "\n",
       "    .dataframe tbody tr th {\n",
       "        vertical-align: top;\n",
       "    }\n",
       "\n",
       "    .dataframe thead th {\n",
       "        text-align: right;\n",
       "    }\n",
       "</style>\n",
       "<table border=\"1\" class=\"dataframe\">\n",
       "  <thead>\n",
       "    <tr style=\"text-align: right;\">\n",
       "      <th></th>\n",
       "      <th>resume_text</th>\n",
       "      <th>cleaned_resume</th>\n",
       "    </tr>\n",
       "  </thead>\n",
       "  <tbody>\n",
       "    <tr>\n",
       "      <th>0</th>\n",
       "      <td>Big data analytics working and database wareho...</td>\n",
       "      <td>big data analytics working database warehouse ...</td>\n",
       "    </tr>\n",
       "    <tr>\n",
       "      <th>1</th>\n",
       "      <td>Fresher looking to join as a data analyst and ...</td>\n",
       "      <td>fresher looking join data analyst junior data ...</td>\n",
       "    </tr>\n",
       "    <tr>\n",
       "      <th>2</th>\n",
       "      <td>nan ['Software Development', 'Machine Learning...</td>\n",
       "      <td>nan software development machine learning deep...</td>\n",
       "    </tr>\n",
       "    <tr>\n",
       "      <th>3</th>\n",
       "      <td>To obtain a position in a fast-paced business ...</td>\n",
       "      <td>obtain position fastpaced business office envi...</td>\n",
       "    </tr>\n",
       "    <tr>\n",
       "      <th>4</th>\n",
       "      <td>Professional accountant with an outstanding wo...</td>\n",
       "      <td>professional accountant outstanding work ethic...</td>\n",
       "    </tr>\n",
       "  </tbody>\n",
       "</table>\n",
       "</div>"
      ],
      "text/plain": [
       "                                         resume_text  \\\n",
       "0  Big data analytics working and database wareho...   \n",
       "1  Fresher looking to join as a data analyst and ...   \n",
       "2  nan ['Software Development', 'Machine Learning...   \n",
       "3  To obtain a position in a fast-paced business ...   \n",
       "4  Professional accountant with an outstanding wo...   \n",
       "\n",
       "                                      cleaned_resume  \n",
       "0  big data analytics working database warehouse ...  \n",
       "1  fresher looking join data analyst junior data ...  \n",
       "2  nan software development machine learning deep...  \n",
       "3  obtain position fastpaced business office envi...  \n",
       "4  professional accountant outstanding work ethic...  "
      ]
     },
     "execution_count": 18,
     "metadata": {},
     "output_type": "execute_result"
    }
   ],
   "source": [
    "# Combine important fields into one 'resume_text' column\n",
    "def combine_resume_fields(row):\n",
    "    fields = [\n",
    "        str(row.get('career_objective', '')),\n",
    "        str(row.get('skills', '')),\n",
    "        str(row.get('educational_institution_name', '')),\n",
    "        str(row.get('degree_names', '')),\n",
    "        str(row.get('professional_company_names', '')),\n",
    "        str(row.get('job_position_name', '')),\n",
    "        str(row.get('skills_required', '')),\n",
    "    ]\n",
    "    return ' '.join(fields)\n",
    "\n",
    "df['resume_text'] = df.apply(combine_resume_fields, axis=1)\n",
    "\n",
    "# Clean the combined resume text\n",
    "def clean_text(text):\n",
    "    text = re.sub(r'http\\S+|www\\S+|[^a-zA-Z\\s]', '', text)  # Remove links and symbols\n",
    "    text = re.sub(r'\\s+', ' ', text)                        # Remove extra whitespace\n",
    "    text = text.lower()                                     # Lowercase\n",
    "    words = text.split()                                    # Tokenize\n",
    "    words = [word for word in words if word not in stop_words]  # Remove stopwords\n",
    "    return \" \".join(words)\n",
    "\n",
    "df['cleaned_resume'] = df['resume_text'].apply(clean_text)\n",
    "\n",
    "# View the cleaned result\n",
    "df[['resume_text', 'cleaned_resume']].head()\n",
    "\n"
   ]
  },
  {
   "cell_type": "code",
   "execution_count": 19,
   "id": "e2f61c1b-8f95-4f04-8c1d-697d370da8e0",
   "metadata": {},
   "outputs": [
    {
     "name": "stdout",
     "output_type": "stream",
     "text": [
      "Mean Squared Error: 0.0155\n",
      "R² Score: 0.4382\n"
     ]
    }
   ],
   "source": [
    "# -------------------------\n",
    "# 1. TF-IDF Vectorization\n",
    "# -------------------------\n",
    "from sklearn.feature_extraction.text import TfidfVectorizer\n",
    "\n",
    "tfidf = TfidfVectorizer(max_features=3000)\n",
    "X = tfidf.fit_transform(df['cleaned_resume']).toarray()\n",
    "\n",
    "# -------------------------\n",
    "# 2. Define Target Variable\n",
    "# -------------------------\n",
    "y = df['matched_score']\n",
    "\n",
    "# -------------------------\n",
    "# 3. Train-Test Split\n",
    "# -------------------------\n",
    "from sklearn.model_selection import train_test_split\n",
    "\n",
    "X_train, X_test, y_train, y_test = train_test_split(X, y, test_size=0.2, random_state=42)\n",
    "\n",
    "# -------------------------\n",
    "# 4. Train Regression Model\n",
    "# -------------------------\n",
    "from sklearn.linear_model import LinearRegression\n",
    "from sklearn.metrics import mean_squared_error, r2_score\n",
    "\n",
    "model = LinearRegression()\n",
    "model.fit(X_train, y_train)\n",
    "\n",
    "# -------------------------\n",
    "# 5. Evaluate the Model\n",
    "# -------------------------\n",
    "y_pred = model.predict(X_test)\n",
    "\n",
    "mse = mean_squared_error(y_test, y_pred)\n",
    "r2 = r2_score(y_test, y_pred)\n",
    "\n",
    "print(f\"Mean Squared Error: {mse:.4f}\")\n",
    "print(f\"R² Score: {r2:.4f}\")\n"
   ]
  },
  {
   "cell_type": "code",
   "execution_count": 20,
   "id": "2cae3d01-31c0-45fd-bbb3-35d97eb80275",
   "metadata": {},
   "outputs": [
    {
     "name": "stdout",
     "output_type": "stream",
     "text": [
      "Predicted Matched Score: 27829940636.98\n"
     ]
    }
   ],
   "source": [
    "def predict_score(text):\n",
    "    cleaned = clean_text(text)\n",
    "    vector = tfidf.transform([cleaned]).toarray()\n",
    "    score = model.predict(vector)[0]\n",
    "    return round(score, 3)\n",
    "\n",
    "# Example usage:\n",
    "sample_resume = \"\"\"\n",
    "Experienced Data Analyst with expertise in Python, Pandas, NumPy, and Scikit-learn.\n",
    "Worked with large datasets and built ML models.\n",
    "\"\"\"\n",
    "predicted = predict_score(sample_resume)\n",
    "print(\"Predicted Matched Score:\", predicted)\n"
   ]
  },
  {
   "cell_type": "code",
   "execution_count": 22,
   "id": "51d5bcb4-867b-4f4c-a22f-5c260115f602",
   "metadata": {},
   "outputs": [
    {
     "name": "stdout",
     "output_type": "stream",
     "text": [
      "['address', 'career_objective', 'skills', 'educational_institution_name', 'degree_names', 'passing_years', 'educational_results', 'result_types', 'major_field_of_studies', 'professional_company_names', 'company_urls', 'start_dates', 'end_dates', 'related_skils_in_job', 'positions', 'locations', 'responsibilities', 'extra_curricular_activity_types', 'extra_curricular_organization_names', 'extra_curricular_organization_links', 'role_positions', 'languages', 'proficiency_levels', 'certification_providers', 'certification_skills', 'online_links', 'issue_dates', 'expiry_dates', '\\ufeffjob_position_name', 'educationaL_requirements', 'experiencere_requirement', 'age_requirement', 'responsibilities.1', 'skills_required', 'matched_score', 'resume_text', 'cleaned_resume', 'predicted_score']\n"
     ]
    }
   ],
   "source": [
    "print(df.columns.tolist())\n"
   ]
  },
  {
   "cell_type": "code",
   "execution_count": 25,
   "id": "11e2660b-c056-4e83-a8f7-a00f98dfda8c",
   "metadata": {},
   "outputs": [],
   "source": [
    "# Rename the column with the weird BOM character to a normal one\n",
    "df.rename(columns={'\\ufeffjob_position_name': 'job_position_name'}, inplace=True)\n"
   ]
  },
  {
   "cell_type": "code",
   "execution_count": 26,
   "id": "ae15eeee-257d-442a-b985-26c398d2ea4a",
   "metadata": {},
   "outputs": [
    {
     "name": "stdout",
     "output_type": "stream",
     "text": [
      "                                      job_position_name  predicted_score\n",
      "3678                                        AI Engineer         0.971867\n",
      "4750                       Database Administrator (DBA)         0.963322\n",
      "3676                           Senior Software Engineer         0.960392\n",
      "1041  Intern (Generative AI Engineering - 2D/3D Imag...         0.960392\n",
      "1331                       Executive/ Sr. Executive -IT         0.960392\n",
      "2404                     Machine Learning (ML) Engineer         0.960392\n",
      "3901             Full Stack Developer (Python,React js)         0.960392\n",
      "1712  System Administrator (Operation & Maintenance ...         0.957097\n",
      "4536             Asst. Manager/ Manger (Administrative)         0.950383\n",
      "6673                                        AI Engineer         0.948918\n"
     ]
    }
   ],
   "source": [
    "# Create the sorted DataFrame again after renaming\n",
    "top_resumes = df.sort_values(by='predicted_score', ascending=False)\n",
    "\n",
    "# Now this will work\n",
    "print(top_resumes[['job_position_name', 'predicted_score']].head(10))\n"
   ]
  },
  {
   "cell_type": "code",
   "execution_count": 27,
   "id": "af878255-d205-408f-8977-78ff0df4832b",
   "metadata": {},
   "outputs": [
    {
     "name": "stdout",
     "output_type": "stream",
     "text": [
      "                                      job_position_name  predicted_score\n",
      "3678                                        AI Engineer         0.971867\n",
      "1041  Intern (Generative AI Engineering - 2D/3D Imag...         0.960392\n",
      "6673                                        AI Engineer         0.948918\n",
      "3536  Intern (Generative AI Engineering - 2D/3D Imag...         0.939152\n",
      "496                                         AI Engineer         0.935612\n",
      "3857                                        AI Engineer         0.922062\n",
      "5                                           AI Engineer         0.921452\n",
      "2205  Intern (Generative AI Engineering - 2D/3D Imag...         0.918980\n",
      "5039                                        AI Engineer         0.913517\n",
      "550   Intern (Generative AI Engineering - 2D/3D Imag...         0.912663\n"
     ]
    }
   ],
   "source": [
    "# Filter resumes for a specific job role\n",
    "target_role = \"AI Engineer\"\n",
    "\n",
    "filtered_resumes = top_resumes[top_resumes['job_position_name'].str.contains(target_role, case=False)]\n",
    "\n",
    "# Show top 10 for that role\n",
    "print(filtered_resumes[['job_position_name', 'predicted_score']].head(10))\n"
   ]
  },
  {
   "cell_type": "code",
   "execution_count": 28,
   "id": "47eae4bc-75cc-4ac2-8515-81636bf31c1b",
   "metadata": {},
   "outputs": [],
   "source": [
    "# Save top 20 resumes for selected role\n",
    "filtered_resumes.head(20).to_csv('top_candidates_for_AI_Engineer.csv', index=False)\n"
   ]
  },
  {
   "cell_type": "code",
   "execution_count": 29,
   "id": "cade3cda-bf69-4b22-9ab1-369c276c8f05",
   "metadata": {},
   "outputs": [
    {
     "data": {
      "image/png": "[encoded data removed]",
      "text/plain": [
       "<Figure size 1200x600 with 1 Axes>"
      ]
     },
     "metadata": {},
     "output_type": "display_data"
    }
   ],
   "source": [
    "import matplotlib.pyplot as plt\n",
    "\n",
    "top_10 = filtered_resumes.head(10)\n",
    "\n",
    "plt.figure(figsize=(12, 6))\n",
    "plt.barh(top_10['job_position_name'], top_10['predicted_score'], color='skyblue')\n",
    "plt.xlabel('Match Score')\n",
    "plt.title(f'Top Resume Matches for {target_role}')\n",
    "plt.gca().invert_yaxis()  # Highest on top\n",
    "plt.show()\n"
   ]
  },
  {
   "cell_type": "code",
   "execution_count": 30,
   "id": "8ac51f49-6c96-48d8-9fb0-97cc75cabb3e",
   "metadata": {},
   "outputs": [
    {
     "name": "stdout",
     "output_type": "stream",
     "text": [
      "Top Candidate's Resume Text:\n",
      "\n",
      "I seek to join a dynamic firm where my attention to detail and creative professional services can be valuable. ['Microsoft Office Suite', 'Dynamic AX', 'Access', 'Excel', 'PowerPoint', 'Word', 'Microsoft Teams', 'Oracle', 'PeopleSoft', 'Sales Force', 'SAP', 'Jira', 'SharePoint', 'Gantt Chart Scheduler', 'strong written and verbal communication skills', 'project management lifecycle', 'Streamline', 'ad', 'advertisements', 'advertising', 'ad copy', 'agile', 'automation', 'billing', 'budgets', 'cable', 'hardware', 'client', 'clients', 'database', 'engineering projects', 'financial', 'focus', 'inventory', 'leadership', 'managing', 'market trends', 'processes', 'project management', 'proposals', 'real time', 'reporting', 'Sales', 'scheduling', 'verbal communication skills', 'workbench', 'written communication skills'] ['Oakland University'] ['Bachelor of Arts'] ['Company Name', 'Company Name', 'Company Name']  Python\n",
      "R or Java\n",
      "TensorFlow\n",
      "PyTorch\n",
      "Scikit-learn.\n"
     ]
    }
   ],
   "source": [
    "# Display the resume text of the top match\n",
    "print(\"Top Candidate's Resume Text:\\n\")\n",
    "print(filtered_resumes.iloc[0]['resume_text'])\n"
   ]
  },
  {
   "cell_type": "markdown",
   "id": "354c44a1-2022-4241-9f04-34c4bb14f4cb",
   "metadata": {},
   "source": [
    "### Add a User Input Function (for Flexibility)"
   ]
  },
  {
   "cell_type": "code",
   "execution_count": null,
   "id": "a5b8f09a-ad02-4346-8f12-24e8dd2a397b",
   "metadata": {},
   "outputs": [],
   "source": [
    "# Dynamic role input\n",
    "user_input = input(\"Enter the job role to filter resumes: \")\n",
    "filtered = top_resumes[top_resumes['job_position_name'].str.contains(user_input, case=False)]\n",
    "print(filtered[['job_position_name', 'predicted_score']].head(10))\n"
   ]
  },
  {
   "cell_type": "code",
   "execution_count": null,
   "id": "55b45dd7-7820-46a6-ab05-1e53523428bc",
   "metadata": {},
   "outputs": [],
   "source": []
  },
  {
   "cell_type": "code",
   "execution_count": null,
   "id": "acadcba9-78da-4cdf-90db-cf04a6012780",
   "metadata": {},
   "outputs": [],
   "source": []
  }
 ],
 "metadata": {
  "kernelspec": {
   "display_name": "Python 3 (ipykernel)",
   "language": "python",
   "name": "python3"
  },
  "language_info": {
   "codemirror_mode": {
    "name": "ipython",
    "version": 3
   },
   "file_extension": ".py",
   "mimetype": "text/x-python",
   "name": "python",
   "nbconvert_exporter": "python",
   "pygments_lexer": "ipython3",
   "version": "3.12.4"
  }
 },
 "nbformat": 4,
 "nbformat_minor": 5
}
